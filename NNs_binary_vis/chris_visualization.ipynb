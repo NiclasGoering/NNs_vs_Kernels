{
 "cells": [
  {
   "cell_type": "code",
   "execution_count": null,
   "metadata": {
    "vscode": {
     "languageId": "plaintext"
    }
   },
   "outputs": [],
   "source": [
    "import numpy as np\n",
    "import torch\n",
    "import itertools\n",
    "from torch import nn\n",
    "import copy\n",
    "from tqdm import tqdm"
   ]
  },
  {
   "cell_type": "code",
   "execution_count": null,
   "metadata": {
    "vscode": {
     "languageId": "plaintext"
    }
   },
   "outputs": [],
   "source": [
    "import math\n",
    "import numpy as np\n",
    "\n",
    "def lz_complexity(s):\n",
    "    i, k, l = 0, 1, 1\n",
    "    k_max = 1\n",
    "    n = len(s) - 1\n",
    "    c = 1\n",
    "    while True:\n",
    "        if s[i + k - 1] == s[l + k - 1]:\n",
    "            k = k + 1\n",
    "            if l + k >= n - 1:\n",
    "                c = c + 1\n",
    "                break\n",
    "        else:\n",
    "            if k > k_max:\n",
    "                k_max = k\n",
    "            i = i + 1\n",
    "            if i == l:\n",
    "                c = c + 1\n",
    "                l = l + k_max\n",
    "                if l + 1 > n:\n",
    "                    break\n",
    "                else:\n",
    "                    i = 0\n",
    "                    k = 1\n",
    "                    k_max = 1\n",
    "            else:\n",
    "                k = 1\n",
    "    return c\n",
    "\n",
    "def decimal(x):\n",
    "    n = len(x)\n",
    "    output = 0\n",
    "    for i in range(len(x)):\n",
    "        output += x[i]*2**(n-1-i)\n",
    "    return output\n",
    "\n",
    "def K_lemp_ziv(sequence):\n",
    "    if (np.sum(sequence == 0) == len(sequence)) or (np.sum(sequence == 1) == len(sequence)) :\n",
    "\n",
    "        out = math.log2(len(sequence))\n",
    "    else:\n",
    "        forward = sequence\n",
    "        backward = sequence[::-1]\n",
    "\n",
    "        out = math.log2(len(sequence))*(lz_complexity(forward) + lz_complexity(backward))/2\n",
    "\n",
    "    return out"
   ]
  },
  {
   "cell_type": "code",
   "execution_count": null,
   "metadata": {
    "vscode": {
     "languageId": "plaintext"
    }
   },
   "outputs": [],
   "source": [
    "dim = 7\n",
    "inputs = [[0, 1] for _ in range(dim)]\n",
    "inputs = itertools.product(*inputs)\n",
    "inputs = [i for i in inputs]\n",
    "data = torch.Tensor(np.array(inputs))"
   ]
  },
  {
   "cell_type": "code",
   "execution_count": null,
   "metadata": {
    "vscode": {
     "languageId": "plaintext"
    }
   },
   "outputs": [],
   "source": [
    "class SimpleNN(nn.Module):\n",
    "    def __init__(self, nl=2):\n",
    "        super(SimpleNN, self).__init__()\n",
    "        # self.flatten = nn.Flatten()\n",
    "        self.nl = nl\n",
    "        self.fc1 = nn.Linear(dim, 128, bias=False)\n",
    "        self.relu = nn.ReLU()\n",
    "        self.fcs = [nn.Linear(128, 128, bias=False) for _ in range(self.nl-1)]\n",
    "\n",
    "        # self.relu = nn.Tanh()\n",
    "        self.fc2 = nn.Linear(128, 1, bias=False)\n",
    "\n",
    "    def forward(self, x):\n",
    "        # x = self.flatten(x)\n",
    "        x = self.fc1(x)\n",
    "        x = self.relu(x)\n",
    "        if self.nl>1:\n",
    "            for fc in self.fcs:\n",
    "                x = fc(x)\n",
    "                x = self.relu(x)\n",
    "        x = self.fc2(x)\n",
    "        return x"
   ]
  },
  {
   "cell_type": "code",
   "execution_count": null,
   "metadata": {
    "vscode": {
     "languageId": "plaintext"
    }
   },
   "outputs": [],
   "source": [
    "net = SimpleNN(nl=4)\n",
    "\n",
    "resolution = 20\n",
    "total = 100\n",
    "data_out = {}\n",
    "layer = net.fc1\n",
    "center = False\n",
    "\n",
    "@torch.no_grad()\n",
    "def main(data_out):\n",
    "    x_ax = torch.randn_like(layer.weight)\n",
    "    y_ax = torch.randn_like(layer.weight)\n",
    "\n",
    "    subyx = float(torch.sum(x_ax*y_ax) / (torch.sqrt(torch.sum(x_ax**2)) *torch.sqrt(torch.sum(y_ax**2))  ))\n",
    "    y_ax = y_ax - subyx * x_ax\n",
    "    y_ax = y_ax / torch.norm(y_ax) * torch.norm(x_ax)\n",
    "\n",
    "    raw = copy.deepcopy(layer.weight)\n",
    "\n",
    "    if center:\n",
    "        subx = float(torch.sum(x_ax*layer.weight) / torch.sqrt(torch.sum(x_ax**2))  / torch.sqrt(torch.sum(layer.weight**2))     )\n",
    "        suby = float(torch.sum(y_ax*layer.weight) / torch.sqrt(torch.sum(y_ax**2))/ torch.sqrt(torch.sum(layer.weight**2))  )\n",
    "        layer.weight += (-1* subx * x_ax -1* suby * y_ax)\n",
    "\n",
    "    for i, j in tqdm(itertools.product(range(-total, total), range(-total, total)), total=4*total**2):\n",
    "        layer.weight += x_ax * i * (1/resolution/layer.weight.shape[1]) + y_ax * j * (1/resolution/layer.weight.shape[1])\n",
    "        y = net(data)\n",
    "        y_str = \"\".join([\"1\" if float(k)>0 else \"0\" for k in y.reshape(-1)])\n",
    "        data_out[(i* (1/resolution/layer.weight.shape[1]),j* (1/resolution/layer.weight.shape[1]))]=y_str\n",
    "        layer.weight = copy.deepcopy(raw)\n",
    "    return data_out\n",
    "\n",
    "data_out = main(data_out)\n",
    "print(data_out)"
   ]
  },
  {
   "cell_type": "code",
   "execution_count": null,
   "metadata": {
    "vscode": {
     "languageId": "plaintext"
    }
   },
   "outputs": [],
   "source": [
    "import matplotlib.pyplot as plt\n",
    "from matplotlib.collections import LineCollection\n",
    "# from complexities2 import K_lemp_ziv\n",
    "\n",
    "unique_strings = list(set(data_out.values()))\n",
    "unique_strings_lz = {i:K_lemp_ziv(i) for i in unique_strings}\n",
    "unique_strings_lz = {k: v for k, v in sorted(unique_strings_lz.items(), key=lambda item: item[1])}\n",
    "unique_strings = list(unique_strings_lz.keys())\n",
    "color_map = plt.cm.get_cmap('viridis', len(unique_strings))\n",
    "colors = [color_map(i) for i in range(len(unique_strings))]\n",
    "string_color_dict = dict(zip(unique_strings, colors))\n",
    "string_color_dict_lz = dict(zip([K_lemp_ziv(i) for i in unique_strings], colors))\n",
    "\n",
    "# Extract coordinates and corresponding strings\n",
    "coordinates, strings = zip(*data_out.items())\n",
    "\n",
    "# Map string to color\n",
    "point_colors = [string_color_dict[string] for string in strings]\n",
    "\n",
    "# Unpack coordinates\n",
    "x, y = zip(*coordinates)\n",
    "\n",
    "fig, ax = plt.subplots()\n",
    "\n",
    "# Create scatter plot\n",
    "scatter = ax.scatter(x, y, c=point_colors, s=100, linewidths=1, cmap='viridis', marker='s')\n",
    "\n",
    "# Add legend\n",
    "# legend_elements = [plt.Line2D([0], [0], marker='o', color='w', markerfacecolor=color, markersize=10, label=string) for string, color in string_color_dict_lz.items()]\n",
    "# plt.legend(handles=legend_elements, loc='upper right')\n",
    "\n",
    "cbar = plt.colorbar(scatter, ax=ax)\n",
    "\n",
    "colours = [color for lz, color in string_color_dict_lz.items()]\n",
    "lz = [lz for lz, color in string_color_dict_lz.items()]\n",
    "\n",
    "num=len(colours)\n",
    "if num > 10:\n",
    "    skip = num // 10\n",
    "cbar.set_ticks([i/(num-1) for i in range(num)][::skip])\n",
    "cbar.set_ticklabels(lz[::skip])\n",
    "\n",
    "# Show the plot\n",
    "# fig.set_size_inches(10,10)\n",
    "ax.set_box_aspect(1)\n",
    "ax.set_xlabel(r'$\\theta_1$')\n",
    "ax.set_ylabel(r'$\\theta_2$')\n",
    "# ax.set_yticks([-0.3, -0.2, -0.1, 0, 0.1, 0.2, 0.3])\n",
    "# ax.set_xticks([-0.3, -0.2, -0.1, 0, 0.1, 0.2, 0.3])\n",
    "fig.set_size_inches(5,4)\n",
    "ax.set_title(f'{len(string_color_dict)} unique functions')\n",
    "# plt.savefig('wow.png', bbox_inches='tight', dpi=300)"
   ]
  }
 ],
 "metadata": {
  "language_info": {
   "name": "python"
  }
 },
 "nbformat": 4,
 "nbformat_minor": 2
}
