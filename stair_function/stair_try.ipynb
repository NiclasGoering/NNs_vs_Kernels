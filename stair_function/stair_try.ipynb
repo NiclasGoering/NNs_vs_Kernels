{
 "cells": [
  {
   "cell_type": "code",
   "execution_count": 2,
   "metadata": {},
   "outputs": [],
   "source": [
    "import numpy as np\n",
    "import torch\n",
    "from typing import List, Set, Tuple\n",
    "import random\n",
    "from functools import partial\n",
    "import json\n",
    "from datetime import datetime\n",
    "import os\n",
    "import matplotlib.pyplot as plt\n",
    "\n",
    "def generate_random_msp(P: int) -> List[Set[int]]:\n",
    "    sets = []\n",
    "    num_sets = random.randint(1, P)\n",
    "    \n",
    "    size = random.randint(1, min(3, P))\n",
    "    sets.append(set(random.sample(range(P), size)))\n",
    "    \n",
    "    for _ in range(num_sets - 1):\n",
    "        prev_union = set().union(*sets)\n",
    "        remaining = set(range(P)) - prev_union\n",
    "        \n",
    "        if remaining and random.random() < 0.7:\n",
    "            new_elem = random.choice(list(remaining))\n",
    "            base_elems = random.sample(list(prev_union), random.randint(0, len(prev_union)))\n",
    "            new_set = set(base_elems + [new_elem])\n",
    "        else:\n",
    "            size = random.randint(1, len(prev_union))\n",
    "            new_set = set(random.sample(list(prev_union), size))\n",
    "        \n",
    "        sets.append(new_set)\n",
    "    \n",
    "    return sets\n",
    "\n",
    "class MSPFunction:\n",
    "    def __init__(self, P: int, sets: List[Set[int]]):\n",
    "        self.P = P\n",
    "        self.sets = sets\n",
    "            \n",
    "        # Verify MSP property\n",
    "        for i in range(1, len(sets)):\n",
    "            prev_union = set().union(*sets[:i])\n",
    "            diff = sets[i] - prev_union\n",
    "            if len(diff) > 1:\n",
    "                raise ValueError(f\"Not an MSP: Set {sets[i]} adds {len(diff)} new elements: {diff}\")\n",
    "    \n",
    "    def evaluate(self, z: torch.Tensor) -> torch.Tensor:\n",
    "        batch_size = z.shape[0]\n",
    "        result = torch.zeros(batch_size, dtype=torch.float64, device=z.device)\n",
    "        \n",
    "        for S in self.sets:\n",
    "            term = torch.ones(batch_size, dtype=torch.float64, device=z.device)\n",
    "            for idx in S:\n",
    "                term = term * z[:, idx]\n",
    "            result = result + term\n",
    "            \n",
    "        return result"
   ]
  },
  {
   "cell_type": "code",
   "execution_count": 16,
   "metadata": {},
   "outputs": [
    {
     "name": "stdout",
     "output_type": "stream",
     "text": [
      "[{2, 7}, {0, 2, 7}, {0, 7}, {1}, {0, 4}, {3, 7}, {0, 1, 2, 3, 4, 7}, {5, 7}]\n"
     ]
    }
   ],
   "source": [
    "sets = generate_random_msp(10)\n",
    "print(sets)"
   ]
  },
  {
   "cell_type": "code",
   "execution_count": 17,
   "metadata": {},
   "outputs": [
    {
     "name": "stdout",
     "output_type": "stream",
     "text": [
      "<__main__.MSPFunction object at 0x7f5e907d6680>\n"
     ]
    }
   ],
   "source": [
    "msp = MSPFunction(10, sets)\n",
    "print(msp)"
   ]
  },
  {
   "cell_type": "code",
   "execution_count": 22,
   "metadata": {},
   "outputs": [
    {
     "name": "stdout",
     "output_type": "stream",
     "text": [
      "tensor([[ 1., -1.,  1.,  1., -1., -1.,  1., -1.],\n",
      "        [-1., -1., -1., -1.,  1.,  1., -1.,  1.],\n",
      "        [-1., -1., -1., -1.,  1., -1., -1., -1.],\n",
      "        [-1.,  1.,  1., -1.,  1., -1., -1., -1.],\n",
      "        [ 1.,  1.,  1.,  1., -1., -1., -1.,  1.],\n",
      "        [ 1.,  1., -1., -1.,  1., -1.,  1., -1.],\n",
      "        [ 1.,  1.,  1.,  1.,  1.,  1., -1.,  1.],\n",
      "        [-1.,  1.,  1., -1.,  1.,  1.,  1., -1.],\n",
      "        [ 1., -1.,  1., -1.,  1.,  1., -1., -1.],\n",
      "        [ 1., -1.,  1., -1., -1., -1.,  1., -1.]], dtype=torch.float64)\n",
      "tensor([-6., -2.,  0.,  2.,  2.,  4.,  8.,  0., -4., -2.], dtype=torch.float64)\n"
     ]
    }
   ],
   "source": [
    "\n",
    "X_test = 2 * torch.bernoulli(0.5 * torch.ones((10, 8), dtype=torch.float64)) - 1\n",
    "y_test = msp.evaluate(X_test)\n",
    "print(X_test)\n",
    "print(y_test)"
   ]
  }
 ],
 "metadata": {
  "kernelspec": {
   "display_name": "env_dev_1",
   "language": "python",
   "name": "python3"
  },
  "language_info": {
   "codemirror_mode": {
    "name": "ipython",
    "version": 3
   },
   "file_extension": ".py",
   "mimetype": "text/x-python",
   "name": "python",
   "nbconvert_exporter": "python",
   "pygments_lexer": "ipython3",
   "version": "3.10.12"
  }
 },
 "nbformat": 4,
 "nbformat_minor": 2
}
